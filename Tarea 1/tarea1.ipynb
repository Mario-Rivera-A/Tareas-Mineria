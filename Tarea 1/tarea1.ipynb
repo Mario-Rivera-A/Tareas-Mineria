{
 "cells": [
  {
   "cell_type": "code",
   "execution_count": 60,
   "metadata": {},
   "outputs": [],
   "source": [
    "\n",
    "import pandas as pd\n",
    "\n",
    "\n",
    "# Parte 1  \n",
    "archivo = \"pcv-enero-2024.xlsx\"\n",
    "datos = pd.read_excel(archivo)\n",
    "\n",
    "# Pre-procesamiento de datos\n",
    "nombres_columnas = list(datos.iloc[2,1:])\n",
    "datos = pd.DataFrame(datos.iloc[3:,1:])\n",
    "datos.columns = nombres_columnas\n",
    "\n"
   ]
  },
  {
   "cell_type": "code",
   "execution_count": 61,
   "metadata": {},
   "outputs": [
    {
     "name": "stdout",
     "output_type": "stream",
     "text": [
      "     AÑO FABRI. MONTO PAGADO  TIPO VEHICULO\n",
      "3          2009        22822      AUTOMOVIL\n",
      "4          2008        36832  STATION WAGON\n",
      "5          2012        20472  STATION WAGON\n",
      "6          2012        27346  STATION WAGON\n",
      "7          2006        36832  STATION WAGON\n",
      "...         ...          ...            ...\n",
      "2336       2013        58538  STATION WAGON\n",
      "2337       2011        17203      AUTOMOVIL\n",
      "2338       2016        41624  STATION WAGON\n",
      "2339       2004        42177  STATION WAGON\n",
      "2340       1992        48264  STATION WAGON\n",
      "\n",
      "[2338 rows x 3 columns]\n"
     ]
    }
   ],
   "source": [
    "# Parte 2 (Selección de columnas)\n",
    "df_aux = datos[[\"AÑO FABRI.\", \"MONTO PAGADO\", \"TIPO VEHICULO\"]]\n",
    "print(datos[[\"AÑO FABRI.\", \"MONTO PAGADO\", \"TIPO VEHICULO\"]])"
   ]
  },
  {
   "cell_type": "markdown",
   "metadata": {},
   "source": [
    "## Por que normalizar los datos\n",
    "\n",
    "### Normalizar los datos ayuda a la mejora del rendimiento del algoritmo, pero principalmente, la normalización sirve para mejora la interpretación de los datos, ya que la información normalizada queda toda dentro de una misma escala, así mismo, al momento de realizar gráficos, ayuda a ver posibles correlaciones entre las distintas variables"
   ]
  },
  {
   "cell_type": "code",
   "execution_count": 62,
   "metadata": {},
   "outputs": [
    {
     "name": "stdout",
     "output_type": "stream",
     "text": [
      "      AÑO FABRI.  MONTO PAGADO\n",
      "3           0.70      0.032626\n",
      "4           0.68      0.055296\n",
      "5           0.76      0.028823\n",
      "6           0.76      0.039946\n",
      "7           0.64      0.055296\n",
      "...          ...           ...\n",
      "2336        0.78      0.090420\n",
      "2337        0.74      0.023533\n",
      "2338        0.84      0.063050\n",
      "2339        0.60      0.063945\n",
      "2340        0.36      0.073795\n",
      "\n",
      "[2338 rows x 2 columns]\n"
     ]
    },
    {
     "name": "stderr",
     "output_type": "stream",
     "text": [
      "C:\\Users\\mrive\\AppData\\Local\\Temp\\ipykernel_1160\\2276679756.py:5: SettingWithCopyWarning: \n",
      "A value is trying to be set on a copy of a slice from a DataFrame.\n",
      "Try using .loc[row_indexer,col_indexer] = value instead\n",
      "\n",
      "See the caveats in the documentation: https://pandas.pydata.org/pandas-docs/stable/user_guide/indexing.html#returning-a-view-versus-a-copy\n",
      "  df_aux[\"AÑO FABRI.\"] = scaler.fit_transform(df_aux[[\"AÑO FABRI.\"]])\n",
      "C:\\Users\\mrive\\AppData\\Local\\Temp\\ipykernel_1160\\2276679756.py:6: SettingWithCopyWarning: \n",
      "A value is trying to be set on a copy of a slice from a DataFrame.\n",
      "Try using .loc[row_indexer,col_indexer] = value instead\n",
      "\n",
      "See the caveats in the documentation: https://pandas.pydata.org/pandas-docs/stable/user_guide/indexing.html#returning-a-view-versus-a-copy\n",
      "  df_aux[\"MONTO PAGADO\"] = scaler.fit_transform(df_aux[[\"MONTO PAGADO\"]])\n"
     ]
    }
   ],
   "source": [
    "from sklearn.preprocessing import MinMaxScaler\n",
    "\n",
    "# Parte 3 (Normalización )\n",
    "scaler = MinMaxScaler()\n",
    "df_aux[\"AÑO FABRI.\"] = scaler.fit_transform(df_aux[[\"AÑO FABRI.\"]])\n",
    "df_aux[\"MONTO PAGADO\"] = scaler.fit_transform(df_aux[[\"MONTO PAGADO\"]])\n",
    "print(df_aux[[\"AÑO FABRI.\", \"MONTO PAGADO\"]])\n"
   ]
  },
  {
   "cell_type": "markdown",
   "metadata": {},
   "source": [
    "## Llevando distintos datos a categorías"
   ]
  },
  {
   "cell_type": "code",
   "execution_count": 63,
   "metadata": {},
   "outputs": [
    {
     "name": "stdout",
     "output_type": "stream",
     "text": [
      "['AUTOMOVIL' 'STATION WAGON' 'CAMIONETA' 'MOTO' 'SEMI REMOLQUE' 'MINIBUS'\n",
      " 'TRACTOCAMION' 'CAMION' 'BUS' 'Carro de Arrastre' 'TAXI COLECTIVO' 'JEEP'\n",
      " 'MAQUINA' 'MINIBUS_PARTICULAR' 'REMOLQUE B' 'furgón' 'TAXI BASICO'\n",
      " 'CASA RODANTE' 'TAXI TURISMO' 'MOTOS              ' 'TRACTOR'\n",
      " 'CARGADOR FRONTAL' 'SEDÁN              ' 'BUS PARTICULAR'\n",
      " 'MINI BUS ESCOLAR' 'HATCHBACK          ' 'SUV                '\n",
      " 'MOTOCICLETA']\n",
      "3       Auto pequeño\n",
      "4       Auto pequeño\n",
      "5       Auto pequeño\n",
      "6       Auto pequeño\n",
      "7       Auto pequeño\n",
      "            ...     \n",
      "2336    Auto pequeño\n",
      "2337    Auto pequeño\n",
      "2338    Auto pequeño\n",
      "2339    Auto pequeño\n",
      "2340    Auto pequeño\n",
      "Name: TIPO VEHICULO, Length: 2338, dtype: object\n",
      "['Auto pequeño' 'Moto' 'Auto grande']\n"
     ]
    },
    {
     "name": "stderr",
     "output_type": "stream",
     "text": [
      "C:\\Users\\mrive\\AppData\\Local\\Temp\\ipykernel_1160\\2841030829.py:20: SettingWithCopyWarning: \n",
      "A value is trying to be set on a copy of a slice from a DataFrame.\n",
      "Try using .loc[row_indexer,col_indexer] = value instead\n",
      "\n",
      "See the caveats in the documentation: https://pandas.pydata.org/pandas-docs/stable/user_guide/indexing.html#returning-a-view-versus-a-copy\n",
      "  df_aux[\"TIPO VEHICULO\"] = df_aux[\"TIPO VEHICULO\"].apply(normalizar_cat_vehiculos)\n"
     ]
    }
   ],
   "source": [
    "print(df_aux[\"TIPO VEHICULO\"].unique())\n",
    "# diccionario = {\"Moto\": {\"MOTOCICLETA\", \"MOTO\", \"MOTOS              \"}}\n",
    "\n",
    "def normalizar_cat_vehiculos(vehiculo):\n",
    "    if vehiculo in [\"MOTO\", \"MOTOCICLETA\", \"MOTOS              \"]:\n",
    "        return \"Moto\"\n",
    "    elif vehiculo in [\"AUTOMOVIL\", \"TAXI COLECTIVO\", \"HATCHBACK          \",\n",
    "                      \"SEDÁN              \", \"SUV                \", \"CAMIONETA\", \"JEEP\",\n",
    "                      \"STATION WAGON\", \"TAXI BASICO\"]:\n",
    "        return \"Auto pequeño\"\n",
    "    elif vehiculo in [\"SEMI REMOLQUE\", \"MINIBUS\", \"TRACTOCAMION\",\n",
    "                      \"CAMION\", \"BUS\", \"Carro de Arrastre\", \"MAQUINA\",\n",
    "                      \"MINIBUS_PARTICULAR\", \"REMOLQUE B\", \"furgón\", \n",
    "                      \"CASA RODANTE\", \"TAXI TURISMO\", \"TRACTOR\",\n",
    "                      \"CARGADOR FRONTAL\", \"BUS PARTICULAR\",\n",
    "                      \"MINI BUS ESCOLAR\"]:\n",
    "        return \"Auto grande\"\n",
    "    else:\n",
    "        return \"Otro\"\n",
    "df_aux[\"TIPO VEHICULO\"] = df_aux[\"TIPO VEHICULO\"].apply(normalizar_cat_vehiculos)\n",
    "\n",
    "print(df_aux[\"TIPO VEHICULO\"].unique())\n",
    "\n"
   ]
  },
  {
   "cell_type": "code",
   "execution_count": 67,
   "metadata": {},
   "outputs": [
    {
     "name": "stdout",
     "output_type": "stream",
     "text": [
      "      Auto grande  Auto pequeño   Moto\n",
      "3           False          True  False\n",
      "4           False          True  False\n",
      "5           False          True  False\n",
      "6           False          True  False\n",
      "7           False          True  False\n",
      "...           ...           ...    ...\n",
      "2336        False          True  False\n",
      "2337        False          True  False\n",
      "2338        False          True  False\n",
      "2339        False          True  False\n",
      "2340        False          True  False\n",
      "\n",
      "[2338 rows x 3 columns]\n"
     ]
    }
   ],
   "source": [
    "#Aplicamos get_dummies\n",
    "\n",
    "df_dummies = pd.get_dummies(df_aux[\"TIPO VEHICULO\"])\n",
    "print(df_dummies)"
   ]
  }
 ],
 "metadata": {
  "kernelspec": {
   "display_name": "Python 3",
   "language": "python",
   "name": "python3"
  },
  "language_info": {
   "codemirror_mode": {
    "name": "ipython",
    "version": 3
   },
   "file_extension": ".py",
   "mimetype": "text/x-python",
   "name": "python",
   "nbconvert_exporter": "python",
   "pygments_lexer": "ipython3",
   "version": "3.11.8"
  }
 },
 "nbformat": 4,
 "nbformat_minor": 2
}
