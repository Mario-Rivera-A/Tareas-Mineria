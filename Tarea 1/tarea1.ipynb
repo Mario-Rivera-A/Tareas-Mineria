{
 "cells": [
  {
   "cell_type": "code",
   "execution_count": 34,
   "metadata": {},
   "outputs": [],
   "source": [
    "\n",
    "import pandas as pd\n",
    "\n",
    "\n",
    "# Parte 1  \n",
    "archivo = \"pcv-enero-2024.xlsx\"\n",
    "datos = pd.read_excel(archivo)\n",
    "\n",
    "# Pre-procesamiento de datos\n",
    "nombres_columnas = list(datos.iloc[2,1:])\n",
    "datos = pd.DataFrame(datos.iloc[3:,1:])\n",
    "datos.columns = nombres_columnas\n",
    "\n"
   ]
  },
  {
   "cell_type": "code",
   "execution_count": 42,
   "metadata": {},
   "outputs": [
    {
     "name": "stdout",
     "output_type": "stream",
     "text": [
      "     AÑO FABRI. MONTO PAGADO  TIPO VEHICULO\n",
      "3          2009        22822      AUTOMOVIL\n",
      "4          2008        36832  STATION WAGON\n",
      "5          2012        20472  STATION WAGON\n",
      "6          2012        27346  STATION WAGON\n",
      "7          2006        36832  STATION WAGON\n",
      "...         ...          ...            ...\n",
      "2336       2013        58538  STATION WAGON\n",
      "2337       2011        17203      AUTOMOVIL\n",
      "2338       2016        41624  STATION WAGON\n",
      "2339       2004        42177  STATION WAGON\n",
      "2340       1992        48264  STATION WAGON\n",
      "\n",
      "[2338 rows x 3 columns]\n",
      "620642\n"
     ]
    }
   ],
   "source": [
    "# Parte 2 (Selección de columnas)\n",
    "df_aux = datos[[\"AÑO FABRI.\", \"MONTO PAGADO\", \"TIPO VEHICULO\"]]\n",
    "print(datos[[\"AÑO FABRI.\", \"MONTO PAGADO\", \"TIPO VEHICULO\"]])"
   ]
  },
  {
   "cell_type": "code",
   "execution_count": 43,
   "metadata": {},
   "outputs": [
    {
     "name": "stdout",
     "output_type": "stream",
     "text": [
      "      AÑO FABRI.  MONTO PAGADO\n",
      "3           0.70      0.032626\n",
      "4           0.68      0.055296\n",
      "5           0.76      0.028823\n",
      "6           0.76      0.039946\n",
      "7           0.64      0.055296\n",
      "...          ...           ...\n",
      "2336        0.78      0.090420\n",
      "2337        0.74      0.023533\n",
      "2338        0.84      0.063050\n",
      "2339        0.60      0.063945\n",
      "2340        0.36      0.073795\n",
      "\n",
      "[2338 rows x 2 columns]\n"
     ]
    },
    {
     "name": "stderr",
     "output_type": "stream",
     "text": [
      "C:\\Users\\mrive\\AppData\\Local\\Temp\\ipykernel_1160\\2276679756.py:5: SettingWithCopyWarning: \n",
      "A value is trying to be set on a copy of a slice from a DataFrame.\n",
      "Try using .loc[row_indexer,col_indexer] = value instead\n",
      "\n",
      "See the caveats in the documentation: https://pandas.pydata.org/pandas-docs/stable/user_guide/indexing.html#returning-a-view-versus-a-copy\n",
      "  df_aux[\"AÑO FABRI.\"] = scaler.fit_transform(df_aux[[\"AÑO FABRI.\"]])\n",
      "C:\\Users\\mrive\\AppData\\Local\\Temp\\ipykernel_1160\\2276679756.py:6: SettingWithCopyWarning: \n",
      "A value is trying to be set on a copy of a slice from a DataFrame.\n",
      "Try using .loc[row_indexer,col_indexer] = value instead\n",
      "\n",
      "See the caveats in the documentation: https://pandas.pydata.org/pandas-docs/stable/user_guide/indexing.html#returning-a-view-versus-a-copy\n",
      "  df_aux[\"MONTO PAGADO\"] = scaler.fit_transform(df_aux[[\"MONTO PAGADO\"]])\n"
     ]
    }
   ],
   "source": [
    "from sklearn.preprocessing import MinMaxScaler\n",
    "\n",
    "# Parte 3 (Normalización )\n",
    "scaler = MinMaxScaler()\n",
    "df_aux[\"AÑO FABRI.\"] = scaler.fit_transform(df_aux[[\"AÑO FABRI.\"]])\n",
    "df_aux[\"MONTO PAGADO\"] = scaler.fit_transform(df_aux[[\"MONTO PAGADO\"]])\n",
    "print(df_aux[[\"AÑO FABRI.\", \"MONTO PAGADO\"]])\n"
   ]
  }
 ],
 "metadata": {
  "kernelspec": {
   "display_name": "Python 3",
   "language": "python",
   "name": "python3"
  },
  "language_info": {
   "codemirror_mode": {
    "name": "ipython",
    "version": 3
   },
   "file_extension": ".py",
   "mimetype": "text/x-python",
   "name": "python",
   "nbconvert_exporter": "python",
   "pygments_lexer": "ipython3",
   "version": "3.11.8"
  }
 },
 "nbformat": 4,
 "nbformat_minor": 2
}
