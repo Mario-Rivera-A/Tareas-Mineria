{
 "cells": [
  {
   "cell_type": "code",
   "execution_count": 33,
   "metadata": {},
   "outputs": [
    {
     "name": "stdout",
     "output_type": "stream",
     "text": [
      "     AÑO FABRI. MONTO PAGADO  TIPO VEHICULO\n",
      "3          2009        22822      AUTOMOVIL\n",
      "4          2008        36832  STATION WAGON\n",
      "5          2012        20472  STATION WAGON\n",
      "6          2012        27346  STATION WAGON\n",
      "7          2006        36832  STATION WAGON\n",
      "...         ...          ...            ...\n",
      "2336       2013        58538  STATION WAGON\n",
      "2337       2011        17203      AUTOMOVIL\n",
      "2338       2016        41624  STATION WAGON\n",
      "2339       2004        42177  STATION WAGON\n",
      "2340       1992        48264  STATION WAGON\n",
      "\n",
      "[2338 rows x 3 columns]\n"
     ]
    }
   ],
   "source": [
    "\n",
    "import pandas as pd\n",
    "\n",
    "archivo = \"pcv-enero-2024.xlsx\"\n",
    "datos = pd.read_excel(archivo)\n",
    "\n",
    "# Pre-procesamiento de datos\n",
    "nombres_columnas = list(datos.iloc[2,1:])\n",
    "datos = pd.DataFrame(datos.iloc[3:,1:])\n",
    "datos.columns = nombres_columnas\n",
    "\n",
    "print(datos[[\"AÑO FABRI.\", \"MONTO PAGADO\", \"TIPO VEHICULO\"]])\n",
    "\n",
    "\n"
   ]
  }
 ],
 "metadata": {
  "kernelspec": {
   "display_name": "Python 3",
   "language": "python",
   "name": "python3"
  },
  "language_info": {
   "codemirror_mode": {
    "name": "ipython",
    "version": 3
   },
   "file_extension": ".py",
   "mimetype": "text/x-python",
   "name": "python",
   "nbconvert_exporter": "python",
   "pygments_lexer": "ipython3",
   "version": "3.11.8"
  }
 },
 "nbformat": 4,
 "nbformat_minor": 2
}
